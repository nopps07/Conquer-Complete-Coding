{
 "cells": [
  {
   "cell_type": "markdown",
   "metadata": {},
   "source": [
    "    ##338"
   ]
  },
  {
   "cell_type": "code",
   "execution_count": null,
   "metadata": {},
   "outputs": [],
   "source": []
  },
  {
   "cell_type": "code",
   "execution_count": null,
   "metadata": {},
   "outputs": [],
   "source": []
  },
  {
   "cell_type": "code",
   "execution_count": null,
   "metadata": {},
   "outputs": [],
   "source": []
  },
  {
   "cell_type": "markdown",
   "metadata": {},
   "source": [
    "##339"
   ]
  },
  {
   "cell_type": "code",
   "execution_count": null,
   "metadata": {},
   "outputs": [],
   "source": [
    "#Given an array of numbers and a number k,\n",
    "#determine if there are three entries in the array which add up to the specified number k.\n",
    "\n",
    "#Given [20, 303, 3, 4, 25] and k = 49, return true as 20 + 4 + 25 = 49"
   ]
  },
  {
   "cell_type": "code",
   "execution_count": 4,
   "metadata": {},
   "outputs": [
    {
     "data": {
      "text/plain": [
       "True"
      ]
     },
     "execution_count": 4,
     "metadata": {},
     "output_type": "execute_result"
    }
   ],
   "source": [
    "#1. loop through all possible triplets, comparing the sum to the number k provided?\n",
    "#O(n^3) [super inefficient]\n",
    "\n",
    "def triplet_sums_to_k(arr, k):\n",
    "    for x in range(len(arr)):\n",
    "        for y in range(x + 1, len(arr)):\n",
    "            for z in range(y + 1, len(arr)):\n",
    "                if arr[x] + arr[y] + arr[z] == k:\n",
    "                    return True\n",
    "    return False\n",
    "\n",
    "\n",
    "arr1 = [20, 303, 3, 4, 25]\n",
    "triplet_sums_to_k(arr1, 40) #False\n",
    "triplet_sums_to_k(arr1, 49) #True"
   ]
  },
  {
   "cell_type": "code",
   "execution_count": null,
   "metadata": {},
   "outputs": [],
   "source": [
    "#2. A Hash table (a slightly better)\n",
    "#After fixing the first number of the triplet,\n",
    "#we find whether or not there are two other elements that sum to the remainder.\n",
    "\n",
    "#O(n^2)\n",
    "#We use an additional O(n) space for the hash table.\n",
    "\n",
    "def triplet_sums_to_k(arr, k):\n",
    "    def pair_sums_to_k(arr, k):\n",
    "        num_set = set()\n",
    "        for n in arr:\n",
    "            if k - n in num_set:\n",
    "                return True\n",
    "            num_set.add(n)\n",
    "        return False\n",
    "    \n",
    "    for i in range(len(arr) - 2):\n",
    "        if pair_sums_to_k(arr[i + 1:], k - arr[i]):\n",
    "            return True\n",
    "        \n",
    "    return False"
   ]
  },
  {
   "cell_type": "code",
   "execution_count": 10,
   "metadata": {},
   "outputs": [
    {
     "data": {
      "text/plain": [
       "False"
      ]
     },
     "execution_count": 10,
     "metadata": {},
     "output_type": "execute_result"
    }
   ],
   "source": [
    "#3. We can sort the array\n",
    "#Then, for each entry in tha array, we find whether or not there are two other elements that sum to the remainder.\n",
    "\n",
    "#Since the array is sorted (important)\n",
    "#we can write a function that solves this 2-sum sub-problem in O(n) time.\n",
    "#[Two-pointer technique]\n",
    "\n",
    "#Overall O(n^2)\n",
    "\n",
    "def triplet_sums_to_k(arr, k):\n",
    "    def pair_sums_to_k(arr, k, start):\n",
    "        lo = start\n",
    "        hi = len(arr) - 1\n",
    "        while lo < hi:\n",
    "            if arr[lo] + arr[hi] == k:\n",
    "                return True\n",
    "            elif arr[lo] + arr[hi] < k:\n",
    "                lo += 1\n",
    "            else:\n",
    "                hi -= 1\n",
    "        return False\n",
    "    \n",
    "    arr.sort()\n",
    "    for i in range(len(arr) - 2):\n",
    "        if pair_sums_to_k(arr, k - arr[i], i + 1):\n",
    "            return True\n",
    "        \n",
    "    return False\n",
    "\n",
    "x = [30, 2, 204, 6, 26]\n",
    "triplet_sums_to_k(x, 261)"
   ]
  },
  {
   "cell_type": "code",
   "execution_count": null,
   "metadata": {},
   "outputs": [],
   "source": []
  },
  {
   "cell_type": "code",
   "execution_count": null,
   "metadata": {},
   "outputs": [],
   "source": []
  },
  {
   "cell_type": "code",
   "execution_count": null,
   "metadata": {},
   "outputs": [],
   "source": []
  },
  {
   "cell_type": "code",
   "execution_count": null,
   "metadata": {},
   "outputs": [],
   "source": []
  },
  {
   "cell_type": "markdown",
   "metadata": {},
   "source": [
    "##341"
   ]
  },
  {
   "cell_type": "code",
   "execution_count": null,
   "metadata": {},
   "outputs": [],
   "source": [
    "#google\n",
    "\n",
    "#You are given an N by N matrix of random letters and a dictionary of words.\n",
    "#Find the maximum number of words that can be packed on the board from the given dictionary.\n",
    "\n",
    "#A word is considered to be able to be packed on the board if:\n",
    "# - It can be found in the dictionary\n",
    "# - It can be constructed from untaken letters by other words found so far on the board\n",
    "# - The letters are adjacent to each other (vertically and horizontally, not diagonally)\n",
    "\n",
    "#Each tile can be visited only once by any word.\n",
    "#{ 'eat', 'rain', 'in', 'rat' }\n",
    "\n",
    "#and matrix:\n",
    "#[['e', 'a', 'n'],\n",
    "#['t', 't', 'i'],\n",
    "#['a', 'r', 'a']]\n",
    "\n",
    "#Your function should return 3, since we can make the words 'eat' 'in' 'rat' without\n",
    "#them touching each other. \n",
    "#We could have alternatively made 'eat' and 'rain',  but that would be incorrect since that's only 2 words."
   ]
  },
  {
   "cell_type": "code",
   "execution_count": null,
   "metadata": {},
   "outputs": [],
   "source": [
    "#Solution: backtracking"
   ]
  },
  {
   "cell_type": "code",
   "execution_count": null,
   "metadata": {},
   "outputs": [],
   "source": [
    "DIRECTIONS = [\n",
    "    (1, 0),\n",
    "    (-1, 0),\n",
    "    (0, 1),\n",
    "    (0, -1),\n",
    "]\n",
    "\n",
    "def max_words(board, n, m, words, visited, r, c, curr_word):\n",
    "    if r < 0 or r >= n or c < 0 or c >= m or visited[r][c]:\n",
    "        return []\n",
    "    \n",
    "    curr_word += board[r][c]\n",
    "    #if no words in |words| start with |curr_word|, then return early.\n",
    "    if not any(word.startswith(curr_word) for word in words):\n",
    "        return []\n",
    "    \n",
    "    visited[r][c] = True\n",
    "    \n",
    "    max_word_set = []\n",
    "    if curr_word in words:\n",
    "        #A valid words has been found: terminate current word search and start a new one\n",
    "        for r, row in enumerate(board):\n",
    "            for c, val in enumerate(row):\n",
    "                curr_word_set = max_words(board, n, m, words, visited, r, c, '')\n",
    "                if len(curr_word_set) > len(max_word_set):\n",
    "                    max_word_set = curr_word_set\n",
    "        max_word_set.append(curr_word)\n",
    "    else:\n",
    "        for dr, dc in DIRECTIONS:\n",
    "            curr_word_set = max_words(board, n, m, words, visited, r + dr, c + dc, curr_word)\n",
    "            if len(curr_word_set) > len(max_word_set):\n",
    "                max_word_set = curr_word_set\n",
    "                \n",
    "    visited[r][c] = False\n",
    "    return max_word_set\n",
    "\n",
    "def find_max_words(board, words):\n",
    "    if not board:\n",
    "        return 0\n",
    "    \n",
    "    n, m = len(board), len(board[0])\n",
    "    visited = [[False for _ in range(m)] for ]"
   ]
  },
  {
   "cell_type": "code",
   "execution_count": null,
   "metadata": {},
   "outputs": [],
   "source": []
  },
  {
   "cell_type": "code",
   "execution_count": null,
   "metadata": {},
   "outputs": [],
   "source": []
  },
  {
   "cell_type": "code",
   "execution_count": null,
   "metadata": {},
   "outputs": [],
   "source": []
  },
  {
   "cell_type": "code",
   "execution_count": null,
   "metadata": {},
   "outputs": [],
   "source": []
  },
  {
   "cell_type": "code",
   "execution_count": null,
   "metadata": {},
   "outputs": [],
   "source": []
  },
  {
   "cell_type": "code",
   "execution_count": null,
   "metadata": {},
   "outputs": [],
   "source": []
  },
  {
   "cell_type": "code",
   "execution_count": null,
   "metadata": {},
   "outputs": [],
   "source": []
  },
  {
   "cell_type": "code",
   "execution_count": null,
   "metadata": {},
   "outputs": [],
   "source": []
  },
  {
   "cell_type": "code",
   "execution_count": null,
   "metadata": {},
   "outputs": [],
   "source": []
  },
  {
   "cell_type": "code",
   "execution_count": null,
   "metadata": {},
   "outputs": [],
   "source": []
  },
  {
   "cell_type": "code",
   "execution_count": null,
   "metadata": {},
   "outputs": [],
   "source": []
  },
  {
   "cell_type": "code",
   "execution_count": null,
   "metadata": {},
   "outputs": [],
   "source": []
  },
  {
   "cell_type": "code",
   "execution_count": null,
   "metadata": {},
   "outputs": [],
   "source": []
  },
  {
   "cell_type": "code",
   "execution_count": null,
   "metadata": {},
   "outputs": [],
   "source": []
  },
  {
   "cell_type": "code",
   "execution_count": null,
   "metadata": {},
   "outputs": [],
   "source": []
  },
  {
   "cell_type": "code",
   "execution_count": null,
   "metadata": {},
   "outputs": [],
   "source": []
  },
  {
   "cell_type": "code",
   "execution_count": null,
   "metadata": {},
   "outputs": [],
   "source": []
  },
  {
   "cell_type": "markdown",
   "metadata": {},
   "source": [
    "##348"
   ]
  },
  {
   "cell_type": "code",
   "execution_count": null,
   "metadata": {},
   "outputs": [],
   "source": [
    "#Zillow\n",
    "\n",
    "#A ternary search tree is a trie-like data structure where each node may have up to three children.\n",
    "#Here is an example which represents the words\n",
    "#code, cob, be, ax, war, and we.\n",
    "\n",
    "#c\n",
    "#b     o     w\n",
    "#a e   d     a\n",
    "#x    b e   r e\n",
    "\n",
    "#The tree is structured according to the following rules:\n",
    "# - left child nodes link to words lexicographically earlier than the parent prefix\n",
    "# - right child nodes link to words lexxicographically later than the parents prefix\n",
    "# - middle child nodes continue the current word\n",
    "\n",
    "#for instance, since code is the first word inserted in the tree, and cob lexicographically\n",
    "#precedes cod, cob is represented as a left child extending from cod.\n",
    "\n",
    "#implement insertion and search functions for a ternary search tree."
   ]
  },
  {
   "cell_type": "code",
   "execution_count": null,
   "metadata": {},
   "outputs": [],
   "source": [
    "#Begin by creating a class to represent a tree node,\n",
    "#just as if we were creating a binary tree.\n",
    "#In this case, we will declare three child nodes instead of two,\n",
    "#and add an additional variable that tells us if we have reached the end of a word\n",
    "\n",
    "class Node:\n",
    "    def __init__(self, data):\n",
    "        self.data = data\n",
    "        self.left = None\n",
    "        self.mid = None\n",
    "        self.right = None\n",
    "        self.end = False\n",
    "    \n",
    "#If there are no nodes in our tree, the process is straightforward\n",
    "#we keep addidg mid child nodes with each consecutive letter until we spell out the whole word\n",
    "#and se the last child's end value to be True\n",
    "\n",
    "#more complicated cases? -> recursive\n",
    "#At each step, we will consider two object: the current node, and the remainder of the word\n",
    "#that must be inserted. If the current node is None, we find ourselves in the case above.\n",
    "#Otherwise, we can consider three possibilities.\n",
    "# - If the first letter of the word remainder precedes the current node's letter, we branch left\n",
    "# - If the first letter of the word remainder succeeds the current node's letter, we branch right\n",
    "# - If the two are equal, we continue to the middle child node with the tail of our word.\n",
    "#Since this recursive process applies to an arbitrary node and suffix, we will call it as a helper\n",
    "#from our main insert function, which updates the root of our tree.\n",
    "\n",
    "class TernaryTree:\n",
    "    def __inin__(self):\n",
    "        self.root = None\n",
    "        \n",
    "    def _insert(self, node, word):\n",
    "        if not word:\n",
    "            return node\n",
    "        \n",
    "        head, tail = word[0], word[1:]\n",
    "        if not node:\n",
    "            node = Node(head)\n",
    "            \n",
    "        if head < node.data:\n",
    "            node.left = self._insert(node.left, word)\n",
    "        elif head > node.data:\n",
    "            node.right = self._insert(node.right, word)\n",
    "        else:\n",
    "            if not tail:\n",
    "                node.end = True\n",
    "            else:\n",
    "                node.mid = self._insert(node.mid, tail)\n",
    "                \n",
    "        return node\n",
    "    \n",
    "    def insert(self, word):\n",
    "        self.root = self._insert(self.root, word)\n",
    "        \n",
    "    #info"
   ]
  },
  {
   "cell_type": "code",
   "execution_count": null,
   "metadata": {},
   "outputs": [],
   "source": [
    "class TernaryTree:\n",
    "    def __init__(self):\n",
    "        self.root = None\n",
    "        \n",
    "    ...\n",
    "    \n",
    "    def _search(self, node, word):\n",
    "        if not node or not word:\n",
    "            return False\n",
    "        \n",
    "        head, tail = word[0], word[1:]\n",
    "        if head < node.data:\n",
    "            return self._search(node.left, word)\n",
    "        elif head > node.data:\n",
    "            return self._search(node.right, word)\n",
    "        else:\n",
    "            if not tail and node.end:\n",
    "                return True\n",
    "            return self._search(node.mid, tail)\n",
    "        \n",
    "    def search(self, word):\n",
    "        return self._search(self.root, word)\n",
    "    \n",
    "    "
   ]
  }
 ],
 "metadata": {
  "kernelspec": {
   "display_name": "Python 3",
   "language": "python",
   "name": "python3"
  },
  "language_info": {
   "codemirror_mode": {
    "name": "ipython",
    "version": 3
   },
   "file_extension": ".py",
   "mimetype": "text/x-python",
   "name": "python",
   "nbconvert_exporter": "python",
   "pygments_lexer": "ipython3",
   "version": "3.7.3"
  }
 },
 "nbformat": 4,
 "nbformat_minor": 2
}

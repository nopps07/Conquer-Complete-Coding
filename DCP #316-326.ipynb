{
 "cells": [
  {
   "cell_type": "code",
   "execution_count": null,
   "metadata": {},
   "outputs": [],
   "source": [
    "#316\n",
    "#Given an array of length N,\n",
    "#where each element i represents the number of ways we can produce i units of change.\n",
    "#For example, [1, 0, 1, 1, 2] would indicate that there is only one way to make\n",
    "#0, 2 or 3 units, and two ways of making 4 units.\n",
    "\n",
    "#Given such an array, determine the denominations that must be in use.\n",
    "#In the case above, for example, there must be coins with value 2,3 and 4."
   ]
  },
  {
   "cell_type": "code",
   "execution_count": null,
   "metadata": {},
   "outputs": [],
   "source": [
    "#1. THE BRUTE FORCE method.\n",
    "def get_powerset(nums):\n",
    "    result = [[]]\n",
    "    \n",
    "    for x in nums:\n",
    "        result.extend([subset + [x] for subset in result])\n",
    "        \n",
    "    return result\n",
    "\n",
    "def change_combinations(coins, n):\n",
    "    ways = [1] + [0] * n\n",
    "    \n",
    "    for coin in coins:\n",
    "        for i in range(coin, n + 1):\n",
    "            ways[i] += ways[i - coin]\n",
    "            \n",
    "        return ways\n",
    "    \n",
    "def find_denomination(array):\n",
    "    nonzero = [i for i, val in enumerate(array[1:], 1) if val > 0]\n",
    "    powerset = get_powerset(nonzero)\n",
    "    \n",
    "    for coins in powerset:\n",
    "        ways = change_combinations(coins, len(array) - 1)\n",
    "        if ways == array:\n",
    "            return coins\n",
    "        \n",
    "#as a result,\n",
    "#the time complexity of this approach will be O(N * 2^^N).\n",
    "#This solution will require O(2^^N) to store all the subsets.\n",
    "\n",
    "#Our final note is that we must take care not to double count when iterating through\n",
    "#our previous coins.\n",
    "#For example, if i = 7, and 3 and 4 are denominations in out solution set,\n",
    "#This only represents one way of producing 7.\n",
    "#To handle this case, we will add logic so that when two coints in our solution sum to an index,\n",
    "#only the lower one will cause us to decrement the value at that index.\n",
    "\n",
    "def find_deniminations(array):\n",
    "    coins = set()\n",
    "    \n",
    "    for i, val in enumerate(array[1:], 1):\n",
    "        if val > 0:\n",
    "            for coin in coins:\n",
    "                if array[(i - coin)] > 0 and ((i - coin) not in coins or (i - coin) <= coin):\n",
    "                        val -= 1\n",
    "                if val > 0:\n",
    "                    coins.add(i)\n",
    "                    \n",
    "    return coins\n",
    "\n",
    "#THe time complexity of this algorithm is O(M *N),\n",
    "#where M is the number of coins in our solution and N is the length of our input\n",
    "#The space complexity will be O(M), since we require extra space to store the set of solution coins.\n"
   ]
  },
  {
   "cell_type": "code",
   "execution_count": null,
   "metadata": {},
   "outputs": [],
   "source": [
    "#318\n",
    "\n",
    "#You are going on a road trip,\n",
    "#and would like to create a suitable music playlist.\n",
    "#The trip will require N songs, though you only have M songs downloaded,\n",
    "#where M < N. \n",
    "#A valid playlist should select each song at least once,\n",
    "#and guarantee a buffer of B songs between repeats\n",
    "#Given N,M, and B, determine the number of valid playlists."
   ]
  },
  {
   "cell_type": "code",
   "execution_count": 6,
   "metadata": {},
   "outputs": [
    {
     "data": {
      "text/plain": [
       "70638297642189060798456634632900899224219226941200244817264640000000000"
      ]
     },
     "execution_count": 6,
     "metadata": {},
     "output_type": "execute_result"
    }
   ],
   "source": [
    "#Step by step\n",
    "#The easier step should be done earlier than others.\n",
    "#1. Creating playlists of N songs from M downladed options, but without any buffer requirement\n",
    "\n",
    "#Dynamic programming\n",
    "#ways[i][j] represents the number of ways of making a playlist of length i with j unique songs.\n",
    "\n",
    "#If the last song is new\n",
    "#ways[i - 1][j - 1]\n",
    "\n",
    "#if the last song is a repeat\n",
    "#ways[i - 1][j]\n",
    "\n",
    "#once we built up our matrix in this way, we can take tha value of ways[n][m] to be our solution.\n",
    "\n",
    "def valid_playlists(n, m, b):\n",
    "    ways = [[0 for _ in range(m + 1)] for _ in range(n + 1)]\n",
    "    ways[0][0] = 1\n",
    "    \n",
    "    for i in range(1, n + 1):\n",
    "        for j in range(1, m + 1):\n",
    "            ways[i][j] = ways[i - 1][j - 1] * (m - (j - 1)) + ways[i - 1][j] * j\n",
    "            \n",
    "    return ways[n][m]\n",
    "\n",
    "valid_playlists(50, 41, 10)"
   ]
  },
  {
   "cell_type": "code",
   "execution_count": 16,
   "metadata": {},
   "outputs": [
    {
     "data": {
      "text/plain": [
       "252157903368763392000"
      ]
     },
     "execution_count": 16,
     "metadata": {},
     "output_type": "execute_result"
    }
   ],
   "source": [
    "#Now let us try adding in the buffer B to our dynamic programming formula.\n",
    "#If the last song is new, no change needs to be made, since it cannot possibly be a repeat.\n",
    "\n",
    "#If the song is old, on the other hand, there will be B options that cannot be used as the\n",
    "#next song, specifically the last B songs in our playlist. Therefore the number of new playlist\n",
    "#formed can be represented as ways[i - 1][j] & (j - b). \n",
    "#If the buffer is bigger than the number of distinct songs played so far, no repeat songs\n",
    "#are possible, so we can use max(j - b, 0) to handle this case.\n",
    "\n",
    "def valid_playlists2(n, m, b):\n",
    "    ways = [[0 for _ in range(m +1)] for _ in range(n + 1)]\n",
    "    ways[0][0] = 1\n",
    "    \n",
    "    for i in range(1, n + 1):\n",
    "        for j in range(1, m + 1):\n",
    "            ways[i][j] = ways[i - 1][j - 1] * (m - (j -1)) + ways[i - 1][j] * max(j - b, 0)\n",
    "            \n",
    "    return ways[n][m]\n",
    "\n",
    "#The time and space complexity of this algorithm will be \n",
    "#O(M * N), since we must loop through each cell of our M X N matrix and perform a few calculations.\n",
    "\n",
    "valid_playlists2(20, 14, 1)"
   ]
  },
  {
   "cell_type": "code",
   "execution_count": null,
   "metadata": {},
   "outputs": [],
   "source": []
  },
  {
   "cell_type": "code",
   "execution_count": null,
   "metadata": {},
   "outputs": [],
   "source": []
  },
  {
   "cell_type": "code",
   "execution_count": null,
   "metadata": {},
   "outputs": [],
   "source": []
  },
  {
   "cell_type": "code",
   "execution_count": null,
   "metadata": {},
   "outputs": [],
   "source": []
  },
  {
   "cell_type": "code",
   "execution_count": null,
   "metadata": {},
   "outputs": [],
   "source": []
  },
  {
   "cell_type": "code",
   "execution_count": null,
   "metadata": {},
   "outputs": [],
   "source": []
  },
  {
   "cell_type": "code",
   "execution_count": null,
   "metadata": {},
   "outputs": [],
   "source": []
  },
  {
   "cell_type": "markdown",
   "metadata": {},
   "source": [
    "## 323 requires strong mathematical background"
   ]
  },
  {
   "cell_type": "code",
   "execution_count": null,
   "metadata": {},
   "outputs": [],
   "source": [
    "#323\n",
    "#create an algorithm to efficiently compute the approximate median of a list of numbers\n",
    "\n",
    "#More precisely, given an unordered list of N numbers, find an element whose rank is\n",
    "#between N / 4 and 3 * N / 4, with a high level of certainty, in less than O(N) time."
   ]
  },
  {
   "cell_type": "code",
   "execution_count": null,
   "metadata": {},
   "outputs": [],
   "source": [
    "#We will need some (hand-wavy) mathematical background.\n",
    "\n",
    "from math import log\n",
    "from random import sample\n",
    "\n",
    "def find_median(array, precision):\n",
    "    m = precision * int(log(len(array, 2)))\n",
    "    \n",
    "    subset = sample(array, m)\n",
    "    subset.sort()\n",
    "    \n",
    "    return subset[m // 2]"
   ]
  },
  {
   "cell_type": "code",
   "execution_count": null,
   "metadata": {},
   "outputs": [],
   "source": []
  },
  {
   "cell_type": "code",
   "execution_count": 2,
   "metadata": {},
   "outputs": [],
   "source": [
    "#324\n",
    "#amazon\n",
    "\n",
    "#there are N mice and N holes placed at integer points along a line.\n",
    "#Given this, find a method that maps mice to holes such that the largest number of steps\n",
    "#any mouse takes is minimized.\n",
    "\n",
    "#Each move consists of moving one mouse one unit to the left or right, and only one mouse can fit inside each hole.\n",
    "\n",
    "#[1, 4, 9, 15] mice\n",
    "#[10, -5, 0, 16] holes\n",
    "#in this case, the best pairing would require us to send the mouse at 1 to the hole at -5,\n",
    "#so our function should return 6."
   ]
  },
  {
   "cell_type": "code",
   "execution_count": 1,
   "metadata": {},
   "outputs": [],
   "source": [
    "#Brute force\n",
    "from itertools import permutations\n",
    "\n",
    "def send(mice, holes):\n",
    "    moves = float('inf')\n",
    "    \n",
    "    orders = permutations(holes, len(mice))\n",
    "    for order in orders:\n",
    "        max_steps = 0\n",
    "        for mouse, hole in zip(mice, order):\n",
    "            max_steps = max(max_steps, abs(mouse - hole))\n",
    "        moves = min(moves, max_steps)\n",
    "        \n",
    "    return moves\n",
    "\n",
    "#This is grossly inefficient, since generating all the permutations is exponential in the number of holes\n"
   ]
  },
  {
   "cell_type": "code",
   "execution_count": 8,
   "metadata": {},
   "outputs": [
    {
     "data": {
      "text/plain": [
       "7"
      ]
     },
     "execution_count": 8,
     "metadata": {},
     "output_type": "execute_result"
    }
   ],
   "source": [
    "#finally, note that every alternative mapping between mice and holes can be derived from our\n",
    "#greedy solution using a series of swaps. Since each one of these swaps cannot imporve our result,\n",
    "#It is impossible to combine them to arrive at a more optimal result.\n",
    "\n",
    "def send2(mice, holes):\n",
    "    mice.sort()\n",
    "    holes.sort()\n",
    "    \n",
    "    moves = 0\n",
    "    for i in range(len(mice)):\n",
    "        moves = max(moves, abs(mice[i] - holes[i]))\n",
    "        \n",
    "    return moves\n",
    "\n",
    "mice = [4, 6, 9, 15]\n",
    "holes = [10 , -3, 0, 16]\n",
    "\n",
    "send2(mice, holes)\n",
    "#The time complexity of this solution is O(N log N), since we must first sort our lists\n",
    "#of mice and holes. The space required is O(1), since we need only iterate over our\n",
    "#input and update the max counter."
   ]
  },
  {
   "cell_type": "code",
   "execution_count": null,
   "metadata": {},
   "outputs": [],
   "source": []
  },
  {
   "cell_type": "code",
   "execution_count": null,
   "metadata": {},
   "outputs": [],
   "source": []
  },
  {
   "cell_type": "code",
   "execution_count": null,
   "metadata": {},
   "outputs": [],
   "source": []
  },
  {
   "cell_type": "code",
   "execution_count": null,
   "metadata": {},
   "outputs": [],
   "source": []
  },
  {
   "cell_type": "code",
   "execution_count": null,
   "metadata": {},
   "outputs": [],
   "source": []
  }
 ],
 "metadata": {
  "kernelspec": {
   "display_name": "Python 3",
   "language": "python",
   "name": "python3"
  },
  "language_info": {
   "codemirror_mode": {
    "name": "ipython",
    "version": 3
   },
   "file_extension": ".py",
   "mimetype": "text/x-python",
   "name": "python",
   "nbconvert_exporter": "python",
   "pygments_lexer": "ipython3",
   "version": "3.7.3"
  }
 },
 "nbformat": 4,
 "nbformat_minor": 2
}

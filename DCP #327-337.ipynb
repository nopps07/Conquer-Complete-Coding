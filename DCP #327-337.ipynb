{
 "cells": [
  {
   "cell_type": "markdown",
   "metadata": {},
   "source": [
    "##326"
   ]
  },
  {
   "cell_type": "code",
   "execution_count": null,
   "metadata": {},
   "outputs": [],
   "source": [
    "#Netflix\n",
    "#A Cartesian tree with sequences S is a binary tree defined by the following two properties:\n",
    "\n",
    "#it is heap-ordered, so that each parent value is strictly less than of its children\n",
    "#an in-order traversal of the tree produces nodes with values that correspond exactly to S\n",
    "\n",
    "#NOTE: CARTESIAN TREE\n",
    "#[3, 2, 6, 1, 9] -> then how would it look like on this tree?"
   ]
  },
  {
   "cell_type": "code",
   "execution_count": null,
   "metadata": {},
   "outputs": [],
   "source": [
    "#The left child of this node is then constructed from all the elements to the left in the sequence,\n",
    "#and the right child is constructed from all the elements to the right\n",
    "\n",
    "class Node:\n",
    "    def _init_(self, data, left = None, right = None):\n",
    "        self.data = data\n",
    "        self.left = left\n",
    "        self.right = right\n",
    "\n",
    "def build_tree(seq):\n",
    "    if not seq:\n",
    "        return None\n",
    "    \n",
    "    val = min(seq)\n",
    "    root, i = Node(val), seq.index(val)\n",
    "    \n",
    "    root.left = build_tree(seq[:i])\n",
    "    root.right = build_tree(seq[i + 1:])\n",
    "    \n",
    "    return root\n",
    "\n",
    "#Since we must scan each subarray to find the minimum element, this will take O(N^2) time,\n",
    "#where N is the length of our sequence. The tree itself will have N nodes, meaning\n",
    "#we will require O(N) space.\n"
   ]
  },
  {
   "cell_type": "code",
   "execution_count": null,
   "metadata": {},
   "outputs": [],
   "source": [
    "#More efficient solution with the following algorithm\n",
    "\n",
    "#For each new element, we can start by placing it as the right child of the right-most node.\n",
    "#(For the first element, we can simply make it the root.) Then, we scan upwards, parent by parent,\n",
    "#until we reach a node whose value is less than that of the new node.\n",
    "#if such a node exists, we set the new node as its right child, and set the previous right child\n",
    "#as the new node's left child."
   ]
  },
  {
   "cell_type": "code",
   "execution_count": null,
   "metadata": {},
   "outputs": [],
   "source": [
    "#To implement this, we will declare three arrays that maintain the parent, left child, and right child of each value\n",
    "#in our sequence.\n",
    "\n",
    "#We will iterate once through our sequence, applying the rules above to se the appropriate values in these arrays\n",
    "#for each element. Then, we recursively create the tree with a helper function.\n",
    "\n",
    "#NOTE: HELPER FUNCTION?\n",
    "\n",
    "def helper(root, seq, left, right):\n",
    "    if root is None:\n",
    "        return\n",
    "    \n",
    "    node = Node(seq[root])\n",
    "    node.left = helper(left[root], seq, left, right)\n",
    "    node.right = helper(right[root], seq, left, right)\n",
    "    \n",
    "    return node\n",
    "\n",
    "def build_tree(seq):\n",
    "    n = len(seq)\n",
    "    parent, left, right = [None] * n, [None] * n, [None] * n\n",
    "    \n",
    "    root = 0\n",
    "    for i in range(1, n):\n",
    "        prev = i - 1\n",
    "        \n",
    "        while seq[i] < seq[prev] and prev != root:\n",
    "            prev = parent[prev]\n",
    "            \n",
    "        if seq[i] < seq[prev]:\n",
    "            left[i] = root\n",
    "            parent[root] = i\n",
    "            root = i\n",
    "            \n",
    "        else:\n",
    "            if right[prev] is not None:\n",
    "                parent[right[prev]] = i\n",
    "                left[i] = right[prev]\n",
    "                \n",
    "            parent[i] = prev\n",
    "            right[prev] = i\n",
    "            \n",
    "    return helper(root, seq, left, right)"
   ]
  },
  {
   "cell_type": "code",
   "execution_count": null,
   "metadata": {},
   "outputs": [],
   "source": [
    "#Since we know in advance exactly what the left and right child of each node should be,\n",
    "#creatng this tree will take an amount of time that is linear in the length of our input.\n",
    "#Furthermore, for the initial part of our algorithem, we only passed over our sequence once\n",
    "#to update our array values, so this algorithm will run in O(N) time and space overall."
   ]
  },
  {
   "cell_type": "markdown",
   "metadata": {},
   "source": [
    "##327"
   ]
  },
  {
   "cell_type": "code",
   "execution_count": null,
   "metadata": {},
   "outputs": [],
   "source": [
    "#salesforce\n",
    "\n",
    "#Write a program to merge two binary trees.\n",
    "#Each node in the new tree should hold a value equal to the sum of the values of the corresponding nodes of the input treees\n",
    "\n",
    "#If only one input tree has a node in a given position,\n",
    "#the corresponding node in the new tree should match that input node"
   ]
  },
  {
   "cell_type": "code",
   "execution_count": null,
   "metadata": {},
   "outputs": [],
   "source": [
    "#Tree-based coding problems -> RECURSIVE\n",
    "\n",
    "#a few base cases we must handle when combining nodes:\n",
    "#1. If neither tree has a node in a particular spot, we should return a leaf node of None.\n",
    "#2. If only one of the trees has a node somwhere, the merged node should simply be a copy of the node."
   ]
  },
  {
   "cell_type": "code",
   "execution_count": null,
   "metadata": {},
   "outputs": [],
   "source": [
    "class Node:\n",
    "    def __init__(self, data, left = None, right = None):\n",
    "        self.data = data\n",
    "        self.left = left\n",
    "        self.right = right\n",
    "\n",
    "def merge(t1, t2):\n",
    "    if not t1 and not t2:\n",
    "        return None\n",
    "    \n",
    "    elif not t1:\n",
    "        return t2\n",
    "    \n",
    "    elif not t2:\n",
    "        return t1\n",
    "    \n",
    "    else:\n",
    "        nod"
   ]
  },
  {
   "cell_type": "code",
   "execution_count": null,
   "metadata": {},
   "outputs": [],
   "source": []
  },
  {
   "cell_type": "code",
   "execution_count": null,
   "metadata": {},
   "outputs": [],
   "source": []
  },
  {
   "cell_type": "code",
   "execution_count": null,
   "metadata": {},
   "outputs": [],
   "source": []
  },
  {
   "cell_type": "code",
   "execution_count": null,
   "metadata": {},
   "outputs": [],
   "source": []
  },
  {
   "cell_type": "code",
   "execution_count": null,
   "metadata": {},
   "outputs": [],
   "source": []
  },
  {
   "cell_type": "code",
   "execution_count": null,
   "metadata": {},
   "outputs": [],
   "source": []
  },
  {
   "cell_type": "markdown",
   "metadata": {},
   "source": [
    "##329"
   ]
  },
  {
   "cell_type": "code",
   "execution_count": 2,
   "metadata": {},
   "outputs": [
    {
     "data": {
      "text/plain": [
       "{'andrew': ['caroline', 'abigail', 'betty'],\n",
       " 'bill': ['caroline', 'betty', 'abigail'],\n",
       " 'chester': ['betty', 'caroline', 'abigail']}"
      ]
     },
     "execution_count": 2,
     "metadata": {},
     "output_type": "execute_result"
    }
   ],
   "source": [
    "#The stable marriage problem is defined as follows:\n",
    "\n",
    "#Suppose you have N men and N women, and each person has ranked their prospective opposite-sex partners in order of preference.\n",
    "\n",
    "#For example, if N = 3, the input could be something like this:\n",
    "\n",
    "guy_preferences = {\n",
    "    'andrew': ['caroline', 'abigail', 'betty'],\n",
    "    'bill': ['caroline', 'betty', 'abigail'],\n",
    "    'chester': ['betty', 'caroline', 'abigail']\n",
    "}\n",
    "\n",
    "girl_preferences = {\n",
    "    'abigail': ['andrew', 'bill', 'chester'],\n",
    "    'betty': ['bill', 'andrew', 'chester'],\n",
    "    'caroline': ['bill', 'chester', 'andrew']\n",
    "}\n",
    "\n",
    "#Write an algorithm that pairs the men and women together in such a way that no two people\n",
    "#of opposite sex would both rather be with each other than with their current partners."
   ]
  },
  {
   "cell_type": "code",
   "execution_count": null,
   "metadata": {},
   "outputs": [],
   "source": [
    "#The Gale-Shapley algorithm that was created to solve this ended up earning one of its creatos a Nobel prize.\n",
    "\n",
    "#...\n",
    "\n",
    "#we can sketch two options:\n",
    "#1. either the girl accepted the offer and later traded up, in which case she would not desire him now\n",
    "#2. The girl rejected him while already married to someone better, which again means she cannot desire him no\n",
    "\n",
    "#Therefore, this algorithm will indeed provide stable partners, though not everyonem may be thrilled with the result."
   ]
  },
  {
   "cell_type": "code",
   "execution_count": 6,
   "metadata": {},
   "outputs": [
    {
     "data": {
      "text/plain": [
       "{'betty': 'chester', 'caroline': 'bill', 'abigail': 'andrew'}"
      ]
     },
     "execution_count": 6,
     "metadata": {},
     "output_type": "execute_result"
    }
   ],
   "source": [
    "def format_input(guy_preferences, girl_preferences):\n",
    "    \"\"\"\n",
    "    Format preferences lists to improve the running time.\n",
    "    - guy preferences are reversed, so popping the next most desired partner is O(1)\n",
    "    - girl preferences are stored in a dict, so that comparing partner desirability is O(1)\n",
    "    \"\"\"\n",
    "    guy_preferences = {guy: list(reversed(pref)) for guy, pref in guy_preferences.items()}\n",
    "    \n",
    "    for girl, pref in girl_preferences.items():\n",
    "        girl_preferences.update({girl: {guy: i for i, guy in enumerate(pref)}})\n",
    "        \n",
    "    return guy_preferences, girl_preferences\n",
    "\n",
    "def match(guy_preferences, girl_preferences):\n",
    "    guy_preferences, girl_preferences = format_input(guy_preferences, girl_preferences)\n",
    "    \n",
    "    married_men = set()\n",
    "    married_women = set()\n",
    "    \n",
    "    bachelors = list(guy_preferences.keys())\n",
    "    pairs = {}\n",
    "    \n",
    "    while bachelors:\n",
    "        \n",
    "        m1 = bachelors.pop()\n",
    "        while m1 not in married_men:\n",
    "            woman = guy_preferences[m1].pop()\n",
    "            \n",
    "            if woman not in married_women:\n",
    "                married_men.add(m1)\n",
    "                married_women.add(woman)\n",
    "                pairs[woman] = m1\n",
    "            \n",
    "            else:\n",
    "                m2 = pairs[woman]\n",
    "                if girl_preferences[woman][m1] < girl_preferences[woman][m2]:\n",
    "                    married_men.add(m1)\n",
    "                    married_men.remove(m2)\n",
    "                    bachelors.append(m2)\n",
    "                    pairs[woman] = m1\n",
    "                    \n",
    "    return pairs\n",
    "\n",
    "format_input(guy_preferences, girl_preferences)\n",
    "match(guy_preferences, girl_preferences)"
   ]
  },
  {
   "cell_type": "code",
   "execution_count": null,
   "metadata": {},
   "outputs": [],
   "source": [
    "#In the worst case, this algorithm will require us to go through the entire preference list of each man\n",
    "#With some careful restructing of our input, we can make it so that all operations for each proposal run\n",
    "#in constant time, leading to an overall time and space complexity of O(N^2)"
   ]
  },
  {
   "cell_type": "code",
   "execution_count": null,
   "metadata": {},
   "outputs": [],
   "source": []
  },
  {
   "cell_type": "code",
   "execution_count": null,
   "metadata": {},
   "outputs": [],
   "source": []
  },
  {
   "cell_type": "code",
   "execution_count": null,
   "metadata": {},
   "outputs": [],
   "source": []
  },
  {
   "cell_type": "code",
   "execution_count": null,
   "metadata": {},
   "outputs": [],
   "source": []
  },
  {
   "cell_type": "markdown",
   "metadata": {},
   "source": [
    "##332"
   ]
  },
  {
   "cell_type": "code",
   "execution_count": null,
   "metadata": {},
   "outputs": [],
   "source": [
    "#Jane Street\n",
    "\n",
    "#Given integers M and N, write a program that counts how many positive integer pairs (a,b)\n",
    "#satisfy the following conditions:\n",
    "#a + b = M\n",
    "#a XOR b = n\n",
    "\n",
    "#XOR? 배타적 논리합.\n",
    "#2개의 명제 가운데 1개만 참일 경우"
   ]
  },
  {
   "cell_type": "code",
   "execution_count": null,
   "metadata": {},
   "outputs": [],
   "source": [
    "#Simple solution\n",
    "#to evaluate every possible pair of positive integers that can sum up to M,\n",
    "#and check whether they XOR to N.\n",
    "\n",
    "def num_pairs(m, n):\n",
    "    pairs = []\n",
    "    \n",
    "    for i in range(m // 2):\n",
    "        if i ^ (m - i) == n:\n",
    "            pairs.apend((i, m - i))\n",
    "            \n",
    "    return pairs"
   ]
  },
  {
   "cell_type": "code",
   "execution_count": null,
   "metadata": {},
   "outputs": [],
   "source": [
    "#This will run in O(M) time and require space up to the number of valid pairs\n",
    "\n",
    "#Check\n",
    "#the use of XOR is a hint that there is a more efficient bitwise solution"
   ]
  },
  {
   "cell_type": "code",
   "execution_count": null,
   "metadata": {},
   "outputs": [],
   "source": [
    "def num_pairs(m, n):\n",
    "    xor_bits = bin(n)[2:]\n",
    "    and_bits = bin((m - n) // 2)[2:]\n",
    "    #bin() method converts and returns the binary equivalent string of a given integer.\n",
    "    #If the parameter isn't an integer, it has to implement __index__() method to return an integer.\n",
    "    \n",
    "    max_len = max(len(xor_bits), len(and_bits))\n",
    "    xor_bits = list(map(int, xor_pair.rjust(max_len, '0')))\n",
    "    and_bits = list(map(int, and_pair.rjust(max_len, '0')))\n",
    "    \n",
    "    count = 1\n",
    "    for i in range(max_len):\n",
    "        if and_bits[i] == 1:\n",
    "            continue\n",
    "        elif xor_bits[i] == 1:\n",
    "            count *= 2\n",
    "            \n",
    "    return count // 2"
   ]
  },
  {
   "cell_type": "code",
   "execution_count": null,
   "metadata": {},
   "outputs": [],
   "source": [
    "#Since we only need to evaluate a number of indices at most equal to the number of bits in M or N,\n",
    "#this algorithm cuts our running time down to O(log M + log N)\n"
   ]
  },
  {
   "cell_type": "code",
   "execution_count": null,
   "metadata": {},
   "outputs": [],
   "source": []
  },
  {
   "cell_type": "code",
   "execution_count": null,
   "metadata": {},
   "outputs": [],
   "source": []
  },
  {
   "cell_type": "code",
   "execution_count": null,
   "metadata": {},
   "outputs": [],
   "source": []
  },
  {
   "cell_type": "markdown",
   "metadata": {},
   "source": [
    "##334"
   ]
  },
  {
   "cell_type": "code",
   "execution_count": null,
   "metadata": {},
   "outputs": [],
   "source": [
    "#Twitter\n",
    "\n",
    "#The 24 game is played as follows.\n",
    "#You are given a list of four integers, each between 1 and 9, in a fixed order.\n",
    "#By placing the operators +, -, *, and / between the numbers, and grouping them with\n",
    "#parentheses, determine whether it is possible to reach the value 24\n",
    "\n",
    "#For example, given the input [5, 2, 7, 8], you should return True, since (5 * 2 - 7) * 8 = 24\n",
    "\n",
    "#Write a function that plays the 24 game."
   ]
  },
  {
   "cell_type": "code",
   "execution_count": null,
   "metadata": {},
   "outputs": [],
   "source": [
    "#A prime candidate for a backtracking approach?\n",
    "\n",
    "#Each step in our algorithm will be to choose two neighboring integers, apply an operation such as multiplication or addition, and replace the two numbers with the result.\n",
    "\n",
    "#If at any point we find a set of operations and a grouping that equals 24, we return True.\n",
    "#Otherwise, once we have evaluated all possible combinations, we return False."
   ]
  },
  {
   "cell_type": "code",
   "execution_count": 1,
   "metadata": {},
   "outputs": [],
   "source": [
    "def apply_ops(a, b):\n",
    "    return [a + b, a - b, a * b, a / b]\n",
    "\n",
    "def play(nums):\n",
    "    if len(nums) == 1:\n",
    "        return nums[0] == 24\n",
    "    elif len(nums) == 2:\n",
    "        return any (play([x]) for x in apply_ops(*nums))\n",
    "    else:\n",
    "        for i in range(len(nums) - 2):\n",
    "            for x in apply_ops(*nums[i : i + 2]):\n",
    "                if play(nums[:i] + [x] + nums[i + 2:]):\n",
    "                    return True\n",
    "        return False"
   ]
  },
  {
   "cell_type": "code",
   "execution_count": null,
   "metadata": {},
   "outputs": [],
   "source": [
    "#It is more straightforward to describe the complexity for an arbitrary input of length N.\n",
    "#Initially, we can choose between N - 1 pairs to which we can apply each operation.\n",
    "#Once this is accomplished, we again must choose a pair from the N - 2 remaining.\n",
    "#Continuing this process, we find that in the worst case we will need to apply each operation N!\n",
    "#times, leading to a time complexity of O(N!)."
   ]
  },
  {
   "cell_type": "code",
   "execution_count": null,
   "metadata": {},
   "outputs": [],
   "source": []
  },
  {
   "cell_type": "code",
   "execution_count": null,
   "metadata": {},
   "outputs": [],
   "source": []
  }
 ],
 "metadata": {
  "kernelspec": {
   "display_name": "Python 3",
   "language": "python",
   "name": "python3"
  },
  "language_info": {
   "codemirror_mode": {
    "name": "ipython",
    "version": 3
   },
   "file_extension": ".py",
   "mimetype": "text/x-python",
   "name": "python",
   "nbconvert_exporter": "python",
   "pygments_lexer": "ipython3",
   "version": "3.7.3"
  }
 },
 "nbformat": 4,
 "nbformat_minor": 2
}

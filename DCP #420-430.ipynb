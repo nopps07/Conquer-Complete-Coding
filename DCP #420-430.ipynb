{
 "cells": [
  {
   "cell_type": "markdown",
   "metadata": {},
   "source": [
    "420"
   ]
  },
  {
   "cell_type": "code",
   "execution_count": null,
   "metadata": {},
   "outputs": [],
   "source": [
    "#Microsoft\n",
    "#A number is considered perfect if its digits sum up to exactly 10.\n",
    "#Given a positive integer n, return the n-th perfect number.\n",
    "##note: 완전수! 자기 자신을 제외한 양의 약수를 더했을 때 자기 자신이 되는 양의 정수\n",
    "##근데 여기서 perfect number는 다른 식으로 정의 되어 있음\n",
    "#For example\n",
    "#given 1, return 19\n",
    "#given 2, return 28"
   ]
  },
  {
   "cell_type": "code",
   "execution_count": 9,
   "metadata": {},
   "outputs": [
    {
     "data": {
      "text/plain": [
       "118"
      ]
     },
     "execution_count": 9,
     "metadata": {},
     "output_type": "execute_result"
    }
   ],
   "source": [
    "def sum_of_digits(n):\n",
    "    current_sum = 0\n",
    "    while n > 0:\n",
    "        current_sum += n % 10\n",
    "        n = n // 10\n",
    "##the floor division // rounds the result down to the nearest whole number\n",
    "    return current_sum\n",
    "\n",
    "def perfect(n):\n",
    "    i, current = 0, 0\n",
    "    while current < n:\n",
    "        i += 1\n",
    "        if sum_of_digits(i) == 10:\n",
    "            current += 1\n",
    "    return i\n",
    "\n",
    "perfect(11)"
   ]
  },
  {
   "cell_type": "code",
   "execution_count": null,
   "metadata": {},
   "outputs": [],
   "source": [
    "#Simply iterating over all the numbers and keeping track of the current perfect number until we hit n.\n",
    "#So that's what we'll do!\n",
    "#O(N) time"
   ]
  },
  {
   "cell_type": "markdown",
   "metadata": {},
   "source": [
    "421. Sorting a million of arrays"
   ]
  },
  {
   "cell_type": "code",
   "execution_count": null,
   "metadata": {},
   "outputs": [],
   "source": [
    "#Amazon\n",
    "#Given an array of a million integers between zero and a billion, out of order,\n",
    "#How can you efficiently sort it?\n",
    "#Assume that you cannot store an array of a billion elements in memory."
   ]
  },
  {
   "cell_type": "code",
   "execution_count": null,
   "metadata": {},
   "outputs": [],
   "source": [
    "#Radix Sort\n",
    "#Order by the ones' place, the tens' place, the hundreds' place ()"
   ]
  },
  {
   "cell_type": "code",
   "execution_count": 24,
   "metadata": {},
   "outputs": [
    {
     "data": {
      "text/plain": [
       "[10, 32, 54, 104, 532, 540]"
      ]
     },
     "execution_count": 24,
     "metadata": {},
     "output_type": "execute_result"
    }
   ],
   "source": [
    "def counting_sort(array, digit, base = 10):\n",
    "    counts = [[] for _ in range(base)]\n",
    "    \n",
    "    for num in array:\n",
    "        d = (num // base ** digit) % base\n",
    "        counts[d].append(num)\n",
    "    ##.append() = adding a single item to the existing list\n",
    "    result = []\n",
    "    for bucket in counts:\n",
    "        result.extend(bucket)\n",
    "        \n",
    "    return result\n",
    "\n",
    "def radix_sort(array, digits = 10):\n",
    "    for digit in range(digits):\n",
    "        array = counting_sort(array, digit)\n",
    "        \n",
    "    return array\n",
    "\n",
    "array = [532, 10, 54, 32, 104, 540]\n",
    "\n",
    "radix_sort(array)"
   ]
  },
  {
   "cell_type": "code",
   "execution_count": null,
   "metadata": {},
   "outputs": [],
   "source": []
  },
  {
   "cell_type": "code",
   "execution_count": null,
   "metadata": {},
   "outputs": [],
   "source": []
  },
  {
   "cell_type": "code",
   "execution_count": null,
   "metadata": {},
   "outputs": [],
   "source": []
  }
 ],
 "metadata": {
  "kernelspec": {
   "display_name": "Python 3",
   "language": "python",
   "name": "python3"
  },
  "language_info": {
   "codemirror_mode": {
    "name": "ipython",
    "version": 3
   },
   "file_extension": ".py",
   "mimetype": "text/x-python",
   "name": "python",
   "nbconvert_exporter": "python",
   "pygments_lexer": "ipython3",
   "version": "3.7.3"
  }
 },
 "nbformat": 4,
 "nbformat_minor": 2
}

{
 "cells": [
  {
   "cell_type": "markdown",
   "metadata": {},
   "source": [
    "420"
   ]
  },
  {
   "cell_type": "code",
   "execution_count": null,
   "metadata": {},
   "outputs": [],
   "source": [
    "#Microsoft\n",
    "#A number is considered perfect if its digits sum up to exactly 10.\n",
    "#Given a positive integer n, return the n-th perfect number.\n",
    "##note: 완전수! 자기 자신을 제외한 양의 약수를 더했을 때 자기 자신이 되는 양의 정수\n",
    "##근데 여기서 perfect number는 다른 식으로 정의 되어 있음\n",
    "#For example\n",
    "#given 1, return 19\n",
    "#given 2, return 28"
   ]
  },
  {
   "cell_type": "code",
   "execution_count": 9,
   "metadata": {},
   "outputs": [
    {
     "data": {
      "text/plain": [
       "118"
      ]
     },
     "execution_count": 9,
     "metadata": {},
     "output_type": "execute_result"
    }
   ],
   "source": [
    "def sum_of_digits(n):\n",
    "    current_sum = 0\n",
    "    while n > 0:\n",
    "        current_sum += n % 10\n",
    "        n = n // 10\n",
    "##the floor division // rounds the result down to the nearest whole number\n",
    "    return current_sum\n",
    "\n",
    "def perfect(n):\n",
    "    i, current = 0, 0\n",
    "    while current < n:\n",
    "        i += 1\n",
    "        if sum_of_digits(i) == 10:\n",
    "            current += 1\n",
    "    return i\n",
    "\n",
    "perfect(11)"
   ]
  },
  {
   "cell_type": "code",
   "execution_count": null,
   "metadata": {},
   "outputs": [],
   "source": [
    "#Simply iterating over all the numbers and keeping track of the current perfect number until we hit n.\n",
    "#So that's what we'll do!\n",
    "#O(N) time"
   ]
  },
  {
   "cell_type": "markdown",
   "metadata": {},
   "source": [
    "421. Sorting a million of arrays"
   ]
  },
  {
   "cell_type": "code",
   "execution_count": null,
   "metadata": {},
   "outputs": [],
   "source": [
    "#Amazon\n",
    "#Given an array of a million integers between zero and a billion, out of order,\n",
    "#How can you efficiently sort it?\n",
    "#Assume that you cannot store an array of a billion elements in memory."
   ]
  },
  {
   "cell_type": "code",
   "execution_count": null,
   "metadata": {},
   "outputs": [],
   "source": [
    "#Radix Sort\n",
    "#Order by the ones' place, the tens' place, the hundreds' place ()"
   ]
  },
  {
   "cell_type": "code",
   "execution_count": 24,
   "metadata": {},
   "outputs": [
    {
     "data": {
      "text/plain": [
       "[10, 32, 54, 104, 532, 540]"
      ]
     },
     "execution_count": 24,
     "metadata": {},
     "output_type": "execute_result"
    }
   ],
   "source": [
    "def counting_sort(array, digit, base = 10):\n",
    "    counts = [[] for _ in range(base)]\n",
    "    \n",
    "    for num in array:\n",
    "        d = (num // base ** digit) % base\n",
    "        counts[d].append(num)\n",
    "    ##.append() = adding a single item to the existing list\n",
    "    result = []\n",
    "    for bucket in counts:\n",
    "        result.extend(bucket)\n",
    "        \n",
    "    return result\n",
    "\n",
    "def radix_sort(array, digits = 10):\n",
    "    for digit in range(digits):\n",
    "        array = counting_sort(array, digit)\n",
    "        \n",
    "    return array\n",
    "\n",
    "array = [532, 10, 54, 32, 104, 540]\n",
    "\n",
    "radix_sort(array)"
   ]
  },
  {
   "cell_type": "markdown",
   "metadata": {},
   "source": [
    "422"
   ]
  },
  {
   "cell_type": "code",
   "execution_count": null,
   "metadata": {},
   "outputs": [],
   "source": [
    "#Salesforce\n",
    "\n",
    "#Write a program to merge two binary trees.\n",
    "#Each node in the new tree should hold a value equal to the sum of the values of the corresponding nodes of the input trees.\n",
    "\n",
    "#If only one input tree has a node in a given position, the corresponding node in the new tree should match that input node.\n"
   ]
  },
  {
   "cell_type": "code",
   "execution_count": null,
   "metadata": {},
   "outputs": [],
   "source": [
    "#tree-based coding problems\n",
    "#Recursiveee!\n",
    "\n"
   ]
  },
  {
   "cell_type": "code",
   "execution_count": null,
   "metadata": {},
   "outputs": [],
   "source": [
    "class Node:\n",
    "    def __init__(self, data, left = None, right = None):\n",
    "        self.data = data\n",
    "        self.left = left\n",
    "        self.right = right\n",
    "\n",
    "#self represents the instance of the class.\n",
    "\n",
    "#__init__ is a reserved method in python classes.\n",
    "#It is called a constructor in object oriented terminology.\n",
    "#This method is called when an object is created from a class and it allows the class to initialise the class\n",
    "\n",
    "def merge(t1, t2):\n",
    "    if not t1 and not t2:\n",
    "        return None\n",
    "    \n",
    "    elif not t1:\n",
    "        return t2\n",
    "    \n",
    "    elif not t2:\n",
    "        return t1\n",
    "    \n",
    "    else:\n",
    "        node = Node(t1.data + t2.data)\n",
    "        node.left = merge(t1.left, t2.left)\n",
    "        node.right = merge(t1.right, t2.right)\n",
    "        return node"
   ]
  },
  {
   "cell_type": "code",
   "execution_count": null,
   "metadata": {},
   "outputs": [],
   "source": [
    "#interative solution\n",
    "\n",
    "def merge(t1, t2):\n",
    "    stack = [(t1, t2)]\n",
    "    \n",
    "    if not t1:\n",
    "        return t2\n",
    "    \n",
    "    while stack:\n",
    "        n1, n2 = stack.pop()\n",
    "        \n",
    "        if not n1 or not n2:\n",
    "            continue\n",
    "        \n",
    "        n1.data += n2.data\n",
    "        \n",
    "        if not n1.left:\n",
    "            n1.left = n2.left\n",
    "        else:\n",
    "            stack.append((n1.left, n2.left))\n",
    "        \n",
    "        if not n1.right:\n",
    "            n1.right = n2.right\n",
    "        else:\n",
    "            stack.append((n1.right, n2.right))\n",
    "            \n",
    "    return t1\n",
    "\n",
    "#A stack is a linear data structure that stores items\n",
    "#in a Last-In/First-Out (LIFO) or First-In/Last-Out (FILO) manner.\n",
    "#In stack, a new element is added at one end and an element is removed from that end only.\n",
    "#The insert and delete operations are often called push and pop"
   ]
  },
  {
   "cell_type": "markdown",
   "metadata": {},
   "source": [
    "423"
   ]
  },
  {
   "cell_type": "code",
   "execution_count": null,
   "metadata": {},
   "outputs": [],
   "source": [
    "#Microsoft\n",
    "\n",
    "#The translative closure of a graph is a measure of which vertices are reachable from other vertices.\n",
    "#It can be represented as a matrix M, where M[i][j] == 1 if there is a path betwwen vertices i and j, and otherwise 0\n",
    "\n",
    "#For example, suppose we are given the following graph in adjacency list form:\n",
    "\n",
    "graph = [\n",
    "    [0,1,3],\n",
    "    [1,2],\n",
    "    [2],\n",
    "    [3]\n",
    "]\n",
    "\n",
    "#The transitive closure of this graph would be:..\n",
    "#[1,1,1,1]\n",
    "#[0,1,1,0]\n",
    "#[0,0,1,0]\n",
    "#[0,0,0,1]\n",
    "\n",
    "\n",
    "#??? translative closure???\n"
   ]
  },
  {
   "cell_type": "code",
   "execution_count": null,
   "metadata": {},
   "outputs": [],
   "source": [
    "#A modified version of Floyd-Warshall.\n",
    "\n",
    "#The algorithm is used for finding the shortest path between all vertices in a weighted graph.\n"
   ]
  },
  {
   "cell_type": "code",
   "execution_count": null,
   "metadata": {},
   "outputs": [],
   "source": [
    "def closure(graph):\n",
    "    n = len(graph)\n",
    "    reachable = [[0 for _ in range(n)] for _ in range(n)]\n",
    "    \n",
    "    for i, v in enumerate(graph):\n",
    "        for neighbor in v:\n",
    "            reachable[i][neighbor] = 1\n",
    "            \n",
    "    for k in range(n):\n",
    "        for i in range(n):\n",
    "            for j in range(n):\n",
    "                reachable[i][j] |= (reachable[i][k] and reachable[k][j])\n",
    "    \n",
    "    return reachable\n",
    "\n",
    "#O(V^3) time, O(V^2) space"
   ]
  },
  {
   "cell_type": "code",
   "execution_count": null,
   "metadata": {},
   "outputs": [],
   "source": [
    "def helper(reachable, graph, i , j):\n",
    "    reachable[i][j] = 1\n",
    "    \n",
    "    for v in graph[j]:\n",
    "        if reachable[i][v] == 0:\n",
    "            reachable = helper(reachable, graph, i ,v)\n",
    "            \n",
    "    return reachable \n",
    "\n",
    "def closure(graph):\n",
    "    n = len(graph)\n",
    "    reachable = [[0 for _ in range(n)] for _ in range(n)]\n",
    "    \n",
    "    for i in range(n):\n",
    "        reachable = helper(reachable, graph, i ,j)\n",
    "        \n",
    "    return reachable\n"
   ]
  },
  {
   "cell_type": "markdown",
   "metadata": {},
   "source": [
    "424. Linear time and Constant space"
   ]
  },
  {
   "cell_type": "code",
   "execution_count": null,
   "metadata": {},
   "outputs": [],
   "source": [
    "#Facebook\n",
    "\n",
    "#Given an array of integers in which two elements appear exactly once and all other elements appear exactly twice,\n",
    "#find the two elements that appear only once\n",
    "\n",
    "#given the array\n",
    "#[2, 4, 6, 8, 10, 2, 6, 10], return 4 and 8. The order does not matter"
   ]
  },
  {
   "cell_type": "code",
   "execution_count": null,
   "metadata": {},
   "outputs": [],
   "source": [
    "#A naive solution\n",
    "#use a dictionary to keep track of the counts of all the numbers\n",
    "#and then to iterate over the dictionary and just return the entries with count 1."
   ]
  },
  {
   "cell_type": "code",
   "execution_count": null,
   "metadata": {},
   "outputs": [],
   "source": [
    "from collections import defaultdict\n",
    "\n",
    "def array_two_elements_naive(arr):\n",
    "    d = defaultdict(int)\n",
    "    for num in arr:\n",
    "        d[num] += 1\n",
    "\n",
    "#Dictionary in Python is an unordered collection of data values that are used to store\n",
    "#data values like a map.\n",
    "#Unlike other Data Types that hold only single value as an element, the Dictionary\n",
    "#holds key: value pair.\n",
    "#In Dictionary, the key must be unique and immutable\n",
    "\n",
    "    result = []\n",
    "    for num, count in d.items():\n",
    "        if count == 1:\n",
    "            result.append(num)\n",
    "    return result"
   ]
  },
  {
   "cell_type": "code",
   "execution_count": null,
   "metadata": {},
   "outputs": [],
   "source": []
  },
  {
   "cell_type": "code",
   "execution_count": null,
   "metadata": {},
   "outputs": [],
   "source": [
    "def array_two_elements(arr):\n",
    "    xor = 0\n",
    "    for num in arr:\n",
    "        xor = xor ^ num\n",
    "        \n",
    "    # Get rightmost set bit\n",
    "    xor = xor & -xor\n",
    "    \n",
    "    rets = [0, 0]\n",
    "    for num in arr:\n",
    "        if num & xor:\n",
    "            rets[0] = rets[0] ^ num\n",
    "        else:\n",
    "            rets[1] = rets[1] ^ num\n",
    "    return rets"
   ]
  },
  {
   "cell_type": "code",
   "execution_count": null,
   "metadata": {},
   "outputs": [],
   "source": [
    "#Addendum: Why does xor & -xor get the rightmost set bit?\n",
    "#This is a neat bit hack that uses Two's complement to isolate the rightmost set bit.\n",
    "#In two's complement, -x = ~x + 1. ~x inverts all the bits in a number\n",
    "#, and adding one to it will carry all the ones up until the first rightmost set bit in the original number x.\n",
    "#Then, since we AND it with the original number, all the bits end up zero except for the rightmost set bit, which is what we're looking for!"
   ]
  },
  {
   "cell_type": "markdown",
   "metadata": {},
   "source": [
    "425. Chess. 이거 엄청 어려움. 근데 유용함"
   ]
  },
  {
   "cell_type": "code",
   "execution_count": null,
   "metadata": {},
   "outputs": [],
   "source": [
    "#Oracle\n",
    "\n",
    "#8 by 8 chess board\n",
    "#determine whether the king is in check"
   ]
  },
  {
   "cell_type": "code",
   "execution_count": 7,
   "metadata": {},
   "outputs": [
    {
     "ename": "NameError",
     "evalue": "name 'k' is not defined",
     "output_type": "error",
     "traceback": [
      "\u001b[1;31m---------------------------------------------------------------------------\u001b[0m",
      "\u001b[1;31mNameError\u001b[0m                                 Traceback (most recent call last)",
      "\u001b[1;32m<ipython-input-7-4ca72e177f5f>\u001b[0m in \u001b[0;36m<module>\u001b[1;34m\u001b[0m\n\u001b[0;32m     80\u001b[0m \u001b[1;33m\u001b[0m\u001b[0m\n\u001b[0;32m     81\u001b[0m \u001b[1;32mimport\u001b[0m \u001b[0mnumpy\u001b[0m \u001b[1;32mas\u001b[0m \u001b[0mnp\u001b[0m\u001b[1;33m\u001b[0m\u001b[1;33m\u001b[0m\u001b[0m\n\u001b[1;32m---> 82\u001b[1;33m \u001b[0mmatrix\u001b[0m \u001b[1;33m=\u001b[0m \u001b[0mnp\u001b[0m\u001b[1;33m.\u001b[0m\u001b[0marray\u001b[0m\u001b[1;33m(\u001b[0m\u001b[1;33m[\u001b[0m\u001b[1;32mNone\u001b[0m\u001b[1;33m,\u001b[0m \u001b[0mk\u001b[0m\u001b[1;33m]\u001b[0m\u001b[1;33m)\u001b[0m\u001b[1;33m\u001b[0m\u001b[1;33m\u001b[0m\u001b[0m\n\u001b[0m\u001b[0;32m     83\u001b[0m \u001b[1;33m\u001b[0m\u001b[0m\n\u001b[0;32m     84\u001b[0m \u001b[0mmatrix\u001b[0m\u001b[1;33m\u001b[0m\u001b[1;33m\u001b[0m\u001b[0m\n",
      "\u001b[1;31mNameError\u001b[0m: name 'k' is not defined"
     ]
    }
   ],
   "source": [
    "def check(board):\n",
    "    location = find.king(board)\n",
    "    \n",
    "    pawns = get_pawn_moves(board, location)\n",
    "    crosses = get_cross_moves(board, location)\n",
    "    diagonals = get_diagonal_moves(board, location)\n",
    "    knights = get_knight_moves(board, location)\n",
    "    \n",
    "    if 'P' in pawns or \\\n",
    "       'B' in diagonals or 'Q' in diagonals or \\\n",
    "       'R' in crosses or 'Q' in crosses or \\\n",
    "       'N' in knights:\n",
    "        return True\n",
    "    \n",
    "    return False\n",
    "\n",
    "#to find the king\n",
    "def find_king(board):\n",
    "    for row in range(8):\n",
    "        for col in range(8):\n",
    "            if board[row][col] == 'K':\n",
    "                return row, col\n",
    "\n",
    "def get_pawn_moves(board, row, col):\n",
    "    if row < 6:\n",
    "        return [board[row + 1][col - 1], board[row + 1][col + 1]]\n",
    "    else:\n",
    "        return []\n",
    "    \n",
    "def get_cross_moves(board, row, col):\n",
    "    pieces = []\n",
    "    \n",
    "    for c in range(col - 1, 0, -1):\n",
    "        if board[row][c] != '.':\n",
    "            pieces.append(board[row][c])\n",
    "            break\n",
    "    for c in range(col + 1, 8, 1):\n",
    "        if board[row][c] != '.':\n",
    "            pieces.append(board[row][c])\n",
    "            break\n",
    "    for r in range(row + 1, 8, 1):\n",
    "        if board[row][c] != '.':\n",
    "            pieces.append(board[r][col])\n",
    "            break\n",
    "    for r in range(row - 1, 0, -1):\n",
    "        if board[row][c] != '.':\n",
    "            pieces.append(board[r][col])\n",
    "            break\n",
    "    return pieces\n",
    "\n",
    "def diagonal_moves(board, row, col):\n",
    "    pieces = []\n",
    "\n",
    "    for r, c in zip(range(row + 1, 8, 1), range(col + 1, 8, 1)):\n",
    "        if board[r][c] != '.':\n",
    "            pieces.append(board[r][c])\n",
    "            break\n",
    "    for r, c in zip(range(row + 1, 8, 1), range(col - 1, -1, -1)):\n",
    "        if board[r][c] != '.':\n",
    "            pieces.append(board[r][c])\n",
    "            break\n",
    "    for r, c in zip(range(row - 1, -1, -1), range(col + 1, 8, 1)):\n",
    "        if board[r][c] != '.':\n",
    "            pieces.append(board[r][c])\n",
    "            break\n",
    "    for r, c in zip(range(row - 1, -1, -1), range(col - 1, -1, -1)):\n",
    "        if board[r][c] != '.':\n",
    "            pieces.append(board[r][c])\n",
    "            break\n",
    "\n",
    "    return pieces\n",
    "\n",
    "def is_legal(row, col):\n",
    "    return 0 <= row <= 7 and 0 <= col <= 7\n",
    "\n",
    "def knight_moves(board, row, col):\n",
    "    moves = [(-2, -1), (-2, +1), (+2, -1), (+2, +1), (-1, -2), (-1, +2), (+1, -2), (+1, +2)]\n",
    "    destinations = [(row + i, col + j) for (i, j) in moves]\n",
    "    return [board[row][col] for row, col in destinations if is_legal(row, col)]\n",
    "\n"
   ]
  },
  {
   "cell_type": "code",
   "execution_count": null,
   "metadata": {},
   "outputs": [],
   "source": []
  },
  {
   "cell_type": "code",
   "execution_count": null,
   "metadata": {},
   "outputs": [],
   "source": []
  },
  {
   "cell_type": "markdown",
   "metadata": {},
   "source": [
    "426"
   ]
  },
  {
   "cell_type": "code",
   "execution_count": null,
   "metadata": {},
   "outputs": [],
   "source": [
    "#Facebook\n",
    "\n",
    "#Given a binary tree, return the level of the tree with minimum sum\n",
    "\n",
    "##A binary tree is a data structure in which each node has at most two children (left and right),\n",
    "#and a level is how many parents a node has until it reaches the root.\n",
    "\n",
    "#level 1. level 2. level 3..."
   ]
  },
  {
   "cell_type": "code",
   "execution_count": 9,
   "metadata": {},
   "outputs": [
    {
     "ename": "ModuleNotFoundError",
     "evalue": "No module named 'Queue'",
     "output_type": "error",
     "traceback": [
      "\u001b[1;31m---------------------------------------------------------------------------\u001b[0m",
      "\u001b[1;31mModuleNotFoundError\u001b[0m                       Traceback (most recent call last)",
      "\u001b[1;32m<ipython-input-9-00648671c039>\u001b[0m in \u001b[0;36m<module>\u001b[1;34m\u001b[0m\n\u001b[1;32m----> 1\u001b[1;33m \u001b[1;32mfrom\u001b[0m \u001b[0mQueue\u001b[0m \u001b[1;32mimport\u001b[0m \u001b[0mqueue\u001b[0m\u001b[1;33m\u001b[0m\u001b[1;33m\u001b[0m\u001b[0m\n\u001b[0m\u001b[0;32m      2\u001b[0m \u001b[1;32mfrom\u001b[0m \u001b[0mcollections\u001b[0m \u001b[1;32mimport\u001b[0m \u001b[0mdefaultdict\u001b[0m\u001b[1;33m\u001b[0m\u001b[1;33m\u001b[0m\u001b[0m\n\u001b[0;32m      3\u001b[0m \u001b[1;33m\u001b[0m\u001b[0m\n\u001b[0;32m      4\u001b[0m \u001b[1;32mclass\u001b[0m \u001b[0mNode\u001b[0m\u001b[1;33m:\u001b[0m\u001b[1;33m\u001b[0m\u001b[1;33m\u001b[0m\u001b[0m\n\u001b[0;32m      5\u001b[0m     \u001b[1;32mdef\u001b[0m \u001b[0m__init__\u001b[0m\u001b[1;33m(\u001b[0m\u001b[0mself\u001b[0m\u001b[1;33m,\u001b[0m \u001b[0mvalue\u001b[0m\u001b[1;33m,\u001b[0m \u001b[0mleft\u001b[0m \u001b[1;33m=\u001b[0m \u001b[1;32mNone\u001b[0m\u001b[1;33m,\u001b[0m \u001b[0mright\u001b[0m \u001b[1;33m=\u001b[0m \u001b[1;32mNone\u001b[0m\u001b[1;33m)\u001b[0m\u001b[1;33m:\u001b[0m\u001b[1;33m\u001b[0m\u001b[1;33m\u001b[0m\u001b[0m\n",
      "\u001b[1;31mModuleNotFoundError\u001b[0m: No module named 'Queue'"
     ]
    }
   ],
   "source": [
    "from Queue import Queue\n",
    "from collections import defaultdict\n",
    "\n",
    "class Node:\n",
    "    def __init__(self, value, left = None, right = None):\n",
    "        self.value = value\n",
    "        self.left = left\n",
    "        self.right = right\n",
    "\n",
    "def minimum_level_sum(root):\n",
    "    queue = Queue()\n",
    "    queue.put((root, 0))\n",
    "    level_to_sum = defaultdict(int) # maps level to its sum\n",
    "    \n",
    "    while not queue.empty():\n",
    "        node, level = queue.get()\n",
    "        level_to_sum[level] += node.val\n",
    "        \n",
    "        if node.right:\n",
    "            queue.put((node.right, level + 1))\n",
    "            \n",
    "        if node.left:\n",
    "            queue.put((node.left, level + 1))\n",
    "            \n",
    "    return min(level_to_sum, key = level_to_sum.get)\n",
    "\n",
    "#O(N)\n",
    "#and works both with positive or negative values.\n",
    "#It works by doing a 'breath first search' and keeping track of the sum in each level.\n",
    "root = Node(\n",
    "    value=1,\n",
    "    left=Node(-2),\n",
    "    right=Node(-3, Node(4), Node(-5))\n",
    ")\n",
    "print(minimum_level_sum(root))"
   ]
  },
  {
   "cell_type": "code",
   "execution_count": 1,
   "metadata": {},
   "outputs": [
    {
     "data": {
      "text/plain": [
       "'\\n         1\\n       /       -2   -3            (level 1 is the minimum)\\n         /          4   -5\\n'"
      ]
     },
     "execution_count": 1,
     "metadata": {},
     "output_type": "execute_result"
    }
   ],
   "source": [
    "\"\"\"\n",
    "         1\n",
    "       /  \\\n",
    "     -2   -3            (level 1 is the minimum)\n",
    "         /  \\\n",
    "        4   -5\n",
    "\"\"\""
   ]
  },
  {
   "cell_type": "code",
   "execution_count": 3,
   "metadata": {},
   "outputs": [
    {
     "data": {
      "text/plain": [
       "'\\n        1\\n        /         -2  -3\\n            /            4   -5\\n'"
      ]
     },
     "execution_count": 3,
     "metadata": {},
     "output_type": "execute_result"
    }
   ],
   "source": [
    "\"\"\"\n",
    "          1\n",
    "      /       \\\n",
    "    2          3\n",
    "  /  \\          \\\n",
    " 4    5          6\n",
    "       \\       /   \\\n",
    "       -1   -7     -8   (level 3 is the minimum)\n",
    "\n",
    "\"\"\"\n",
    "root = Node(\n",
    "    value=1,\n",
    "    left=Node(2, Node(4), Node(5, Node(-1))),\n",
    "    right=Node(\n",
    "        value=3,\n",
    "        right=Node(6, Node(-7), Node(-8))\n",
    "    )\n",
    ")\n",
    "print(minimum_level_sum(root))"
   ]
  },
  {
   "cell_type": "markdown",
   "metadata": {},
   "source": [
    "427"
   ]
  },
  {
   "cell_type": "code",
   "execution_count": null,
   "metadata": {},
   "outputs": [],
   "source": [
    "#Square\n",
    "\n",
    "#A competitive runner would like to create a route that starts and ends at his house,\n",
    "#with the condition that the route goes entirely uphill at first, and then entirely downhill.\n",
    "\n",
    "#Given a dictionary of places of the form {location: elevation},\n",
    "#and a dictionary mapping paths between some of these locations\n",
    "#to there corrsponding distances, find the length of the shortest route satisfying\n",
    "#the condition above. Assume the runner's home is location 0.\n",
    "\n",
    "#for example\n",
    "elevations = {0: 5, 1: 25, 2: 15, 3: 20, 4: 10}\n",
    "paths = {\n",
    "    (0, 1): 10,\n",
    "    (0, 2): 8,\n",
    "    (0, 3): 15,\n",
    "    (1, 3): 12,\n",
    "    (2, 4): 10,\n",
    "    (3, 4): 5,\n",
    "    (3, 0): 17,\n",
    "    (4, 0): 10\n",
    "}\n",
    "\n",
    "#0 -> 2 -> 4 -> 0, with a distance of 28"
   ]
  },
  {
   "cell_type": "code",
   "execution_count": null,
   "metadata": {},
   "outputs": [],
   "source": []
  },
  {
   "cell_type": "code",
   "execution_count": null,
   "metadata": {},
   "outputs": [],
   "source": [
    "def helper(v, visited, stack, edges):\n",
    "    visited[v] = True\n",
    "    \n",
    "    for neighbor, _ in edges[v]:\n",
    "        if not visited[neighbor]:\n",
    "            helper(neighbor, visited, stack, edges)\n",
    "            \n",
    "    stack.append(v)\n",
    "    \n",
    "def toposort(edges, num_vertices):\n",
    "    visited = [False for _ in range(num_vertices)]\n",
    "    stack = []\n",
    "    \n",
    "    for v in range(num_vertices):\n",
    "        if not visited[v]:\n",
    "            helper(v, visited, stack, edges)\n",
    "    \n",
    "    return stack\n",
    "\n",
    "def get_distance(edges, stack):\n",
    "    dist = [float('inf') for _ in range(len(stack))]\n",
    "    dist[0] = 0\n",
    "    \n",
    "    while stack:\n",
    "        curr = stack.pop()\n",
    "        \n",
    "        for neighbor, distance in edges[curr]:\n",
    "            if dist[neighbor] > dist[curr] + distance:\n",
    "                dist[neighbor] = dist[curr] + distance\n",
    "                \n",
    "    return dist[1:]\n",
    "\n",
    "def shortest_route(elevations, paths):\n",
    "    uphill_edges = defaultdict(list)\n",
    "    downhill_edges = defaultdict(list)\n",
    "    all_edges = defaultdict(list)\n",
    "    \n",
    "    for (start, end), distance in paths.items():\n",
    "        all_edges[start].append((end, distance))\n",
    "        if elevations[start] < elevations[end]:\n",
    "            uphill_edges[start].append((end, distance))\n",
    "        else:\n",
    "            downhill_edges[end].append((start, distance))\n",
    "            \n",
    "    num_vertices = len(all_edges.keys())\n",
    "    stack = toposort(all_edges, num_vertices)\n",
    "    \n",
    "    uphill_distances = get_distances(uphill_edges, list(stack))\n",
    "    downhill_distances = get_distances(downhill_edges, list(stack))\n",
    "    \n",
    "    return min(x + y for x, y in zip(uphill_distance, downhill_distances))"
   ]
  },
  {
   "cell_type": "markdown",
   "metadata": {},
   "source": [
    "428"
   ]
  },
  {
   "cell_type": "code",
   "execution_count": null,
   "metadata": {},
   "outputs": [],
   "source": [
    "#Uber\n",
    "\n",
    "#You have N stones in a row, and would like to create from them a pyramid.\n",
    "#It should be constructed such taht the height of each stone increases by one until reaching the tallest stone,\n",
    "#after which the heights decrease by one.\n",
    "#In addition, the start and end stones of the pyramid should each be one stone high.\n",
    "\n",
    "#You can change the height of any stone by paying a cost of 1 unit to lower its height by 1,\n",
    "#as many times as necessary.\n",
    "\n",
    "#Given this information, determine the lowest cost method to produce this pyramid.\n",
    "\n",
    "#Given the stones [1, 1, 3, 3, 2, 1], the optimal solution is to pay 2 to create [0, 1, 2, 3, 2, 1]"
   ]
  },
  {
   "cell_type": "code",
   "execution_count": null,
   "metadata": {},
   "outputs": [],
   "source": []
  },
  {
   "cell_type": "code",
   "execution_count": null,
   "metadata": {},
   "outputs": [],
   "source": [
    "def find_cost(x, h, stones):\n",
    "    heights = []\n",
    "    for i in range(len(stones)):\n",
    "        heights.append(h - abs(x - i))\n",
    "        \n",
    "    costs = [s - h for (s,h) in zip(stones, heights)]\n",
    "    if any(c < 0 for c in costs):\n",
    "        return False\n",
    "    \n",
    "    return sum(costs)\n",
    "\n",
    "def build_pyramid(stones):\n",
    "    min_cost = float('inf')\n",
    "    \n",
    "    for x in range(1, len(stones) - 1):\n",
    "        for h in range(stones[x], 0, -1):\n",
    "            cost = find_cost(x, h, stones)\n",
    "            if cost is not False and cost < min_cost:\n",
    "                min_cost = cost\n",
    "                \n",
    "    return min_cost"
   ]
  },
  {
   "cell_type": "code",
   "execution_count": null,
   "metadata": {},
   "outputs": [],
   "source": [
    "#By Dynamic programming?"
   ]
  },
  {
   "cell_type": "code",
   "execution_count": null,
   "metadata": {},
   "outputs": [],
   "source": [
    "left[i] = min (current_value, left[i - 1] + 1)\n",
    "right[i] = min(current_value, right[i + 1] + 1)\n",
    "\n",
    "def build_pyramid(stones):\n",
    "    left = [0 for _ in range(len(stones))]\n",
    "    right = [0 for _ in range(len(stones))]\n",
    "    \n",
    "    left[0] = 1\n",
    "    for i in range(1, len(stones)):\n",
    "        left[i] = min(stones[i], left[i - 1] + 1)\n",
    "        \n",
    "    right[-1] = 1\n",
    "    for i in range(len(stones) - 2, -1, -1):\n",
    "        right[i] = min(stones[i], right[i + 1] + 1)\n",
    "        \n",
    "    min_heights = [min(l, r) for (l, r) in zip(left, right)]\n",
    "    \n",
    "    center = min_heights.index(max(min_heights))\n",
    "    height = min_heights[center]\n",
    "    cost = find_cost(center, height, stones)\n",
    "    \n",
    "    return cost"
   ]
  },
  {
   "cell_type": "markdown",
   "metadata": {},
   "source": [
    "429"
   ]
  },
  {
   "cell_type": "code",
   "execution_count": null,
   "metadata": {},
   "outputs": [],
   "source": [
    "#Stitch Fix\n",
    "\n",
    "#Pascal's triangle is a triangular array of integers constructed with the following formula:\n",
    "#The first row consists of the number 1\n",
    "#For each subsequent row, each element is the sum of the numbers directly above it, on either side.\n",
    "\n",
    "#Given an input k, return the Kth row of Pascal's triangle.\n",
    "#Bonus: Can you do this using only O(k) space?"
   ]
  },
  {
   "cell_type": "code",
   "execution_count": null,
   "metadata": {},
   "outputs": [],
   "source": [
    "def pascal(k):\n",
    "    rows = [[0 for _ in range(k)] for _ in range(k)]\n",
    "    \n",
    "    rows[0][0] = 1\n",
    "    for i in range(1, k):\n",
    "        for j in range(i + 1):\n",
    "            rows[i][j] = rows[i - 1][j - 1] + rows[i - 1][j]\n",
    "            \n",
    "    return rows[-1]\n",
    "\n",
    "#O(k^2)"
   ]
  },
  {
   "cell_type": "code",
   "execution_count": null,
   "metadata": {},
   "outputs": [],
   "source": [
    "#O(k)\n",
    "\n",
    "def pascal(k):\n",
    "    rows = [0 for _ in range(k + 1)]\n",
    "    \n",
    "    rows[1] = 1\n",
    "    for i in range(1, k + 1):\n",
    "        for j in range(i, 0, -1):\n",
    "            rows[j] += rows[j - 1]\n",
    "            \n",
    "    return rows[1:]"
   ]
  },
  {
   "cell_type": "code",
   "execution_count": null,
   "metadata": {},
   "outputs": [],
   "source": [
    "from math import factorial\n",
    "\n",
    "def nCr(n, r):\n",
    "    return factorial(n) // factorial(r) // factorial(n - r)\n",
    "\n",
    "def pascal(k):\n",
    "    return [nCr(k - 1, i) for i in range(k)]"
   ]
  },
  {
   "cell_type": "markdown",
   "metadata": {},
   "source": [
    "430"
   ]
  },
  {
   "cell_type": "code",
   "execution_count": null,
   "metadata": {},
   "outputs": [],
   "source": [
    "#Facebook\n",
    "\n",
    "#Given a string of parentheses, find the balanced string that can be produced from it using the\n",
    "#minimum number of insertions and deletions. \n",
    "#If there are multiple solutions, return any of them.\n",
    "\n",
    "#For example, given \"(()\", you could return \"(())\". \n",
    "#Given \"))()(\", you could return \"()()()\""
   ]
  },
  {
   "cell_type": "code",
   "execution_count": null,
   "metadata": {},
   "outputs": [],
   "source": [
    "def get_closest_string(s):\n",
    "    closest_string = []\n",
    "    \n",
    "    open_parens = 0\n",
    "    \n",
    "    for char in s:\n",
    "        if char == \"(\":\n",
    "            open_parens += 1\n",
    "            closest_string.append(char)\n",
    "            \n",
    "        else:\n",
    "            if not open_parens:\n",
    "                closest_string += \"(\"\n",
    "            else:\n",
    "                open_parens -= 1\n",
    "            closest_string.append(char)\n",
    "            \n",
    "    while open_parens:\n",
    "        open_parens -= 1\n",
    "        closest_string.append(\")\")\n",
    "        \n",
    "    return ''.join(closest_string)"
   ]
  },
  {
   "cell_type": "code",
   "execution_count": null,
   "metadata": {},
   "outputs": [],
   "source": []
  },
  {
   "cell_type": "code",
   "execution_count": null,
   "metadata": {},
   "outputs": [],
   "source": []
  },
  {
   "cell_type": "code",
   "execution_count": null,
   "metadata": {},
   "outputs": [],
   "source": []
  },
  {
   "cell_type": "code",
   "execution_count": null,
   "metadata": {},
   "outputs": [],
   "source": []
  }
 ],
 "metadata": {
  "kernelspec": {
   "display_name": "Python 3",
   "language": "python",
   "name": "python3"
  },
  "language_info": {
   "codemirror_mode": {
    "name": "ipython",
    "version": 3
   },
   "file_extension": ".py",
   "mimetype": "text/x-python",
   "name": "python",
   "nbconvert_exporter": "python",
   "pygments_lexer": "ipython3",
   "version": "3.7.3"
  }
 },
 "nbformat": 4,
 "nbformat_minor": 2
}
